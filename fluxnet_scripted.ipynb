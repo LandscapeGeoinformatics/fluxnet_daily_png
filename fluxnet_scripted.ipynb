{
 "cells": [
  {
   "cell_type": "code",
   "execution_count": 1,
   "metadata": {},
   "outputs": [],
   "source": [
    "import pyodbc\n",
    "import get_conf\n",
    "from datetime import timedelta, date, datetime\n",
    "import pandas as pd\n",
    "import os\n",
    "import xarray as xr\n",
    "import dask\n",
    "import matplotlib.pyplot as plt\n",
    "\n",
    "from xarray.coding.times import decode_cf_datetime\n",
    "\n",
    "conn = pyodbc.connect(get_conf.conn_string() )"
   ]
  },
  {
   "cell_type": "markdown",
   "metadata": {},
   "source": [
    "## Example HF tables\n",
    "\n",
    "- Agali_II_FluxHFdata\n",
    "- Palo_ClearCut_PaloclearHFdata\n",
    "- Palo_Forest_TensoHFdata\n",
    "- Soontaga_HFdata\n",
    "\n",
    "### Soontaga Forest station - Soontaga_HFdata\n",
    "\n",
    "We need to plot the following columns:\n",
    "\n",
    "      ,[w_Avg] – vertical wind (Z), m/s\n",
    "      ,[T_Avg] – sonic temperature, 0C\n",
    "      ,[CO2_dry_Avg] - CO2, ppm\n",
    "      ,[H2O_dry_Avg] – H2O, mmol/mol"
   ]
  },
  {
   "cell_type": "code",
   "execution_count": 7,
   "metadata": {
    "tags": [
     "parameters"
    ]
   },
   "outputs": [],
   "source": [
    "days_back = 1\n",
    "include_now = 1\n",
    "parameter = \"CO2\"\n",
    "station_table = \"Palo_Forest_FluxHFdata\"\n",
    "filename_def = 'today_and_yesterday'\n"
   ]
  },
  {
   "cell_type": "code",
   "execution_count": 8,
   "metadata": {},
   "outputs": [
    {
     "name": "stdout",
     "output_type": "stream",
     "text": [
      "2021-11-22 14:58:57\n",
      "2021-11-21 00:00:00\n",
      "today_and_yesterday.png\n"
     ]
    }
   ],
   "source": [
    "d3 = timedelta(days=days_back)\n",
    "\n",
    "normal_shift = 1 if include_now < 1 else 0\n",
    "\n",
    "dt_today = date.today() - timedelta(days=normal_shift)\n",
    "\n",
    "a = dt_today.strftime('%Y-%m-%d 23:59:59') if include_now <= 0 else datetime.now().strftime('%Y-%m-%d %H:%M:%S')\n",
    "\n",
    "b = (dt_today - d3).strftime('%Y-%m-%d 00:00:00')\n",
    "\n",
    "a_str = a.replace(' ','_').replace(':','.')\n",
    "b_str = b.replace(' ','_').replace(':','.')\n",
    "\n",
    "filename_pref = f\"{parameter}_{station_table}_{b_str}_{a_str}\" if len(filename_def) <= 0 else f\"{filename_def}\"\n",
    "\n",
    "outfilename = f\"{filename_pref}.png\"\n",
    "\n",
    "print(a)\n",
    "print(b)\n",
    "print(outfilename)"
   ]
  },
  {
   "cell_type": "code",
   "execution_count": 9,
   "metadata": {},
   "outputs": [
    {
     "name": "stdout",
     "output_type": "stream",
     "text": [
      "SELECT CO2, TmStamp FROM Palo_Forest_FluxHFdata WHERE TmStamp >= '2021-11-21 00:00:00' AND TmStamp <= '2021-11-22 14:58:57'\n"
     ]
    }
   ],
   "source": [
    "param = parameter\n",
    "table = station_table\n",
    "from_ts = b\n",
    "to_ts = a\n",
    "\n",
    "sql_query = f\"SELECT {param}, TmStamp FROM {table} WHERE TmStamp >= '{from_ts}' AND TmStamp <= '{to_ts}'\"\n",
    "\n",
    "print(sql_query)\n",
    "\n",
    "df = pd.read_sql_query(sql_query, conn, coerce_float=True, parse_dates=['TmStamp'], chunksize=None).rename(columns={'TmStamp':'time'}).set_index('time')\n"
   ]
  },
  {
   "cell_type": "code",
   "execution_count": 10,
   "metadata": {},
   "outputs": [
    {
     "name": "stdout",
     "output_type": "stream",
     "text": [
      "vmin 207.56515716552764 vmax 717.9114242553705\n"
     ]
    }
   ],
   "source": [
    "qr = df.quantile([0.01, 0.99])\n",
    "qr_min = qr.iloc[0,0]\n",
    "qr_max = qr.iloc[1,0]\n",
    "\n",
    "iqrx = (qr_max - qr_min)\n",
    "\n",
    "vmin = qr_min-iqrx*1.5\n",
    "vmax = qr_max+iqrx*1.5\n",
    "\n",
    "print(f\"vmin {vmin} vmax {vmax}\")"
   ]
  },
  {
   "cell_type": "code",
   "execution_count": 11,
   "metadata": {},
   "outputs": [
    {
     "data": {
      "image/png": "[encoded data removed]",
      "text/plain": [
       "<Figure size 1008x576 with 1 Axes>"
      ]
     },
     "metadata": {
      "needs_background": "light"
     },
     "output_type": "display_data"
    }
   ],
   "source": [
    "dset = xr.Dataset.from_dataframe(df)\n",
    "\n",
    "def format_date(x, pos=None):\n",
    "    calendar = \"standard\"\n",
    "    units=\"days since 1970-01-01 00:00:00\"\n",
    "\n",
    "    np_ts = decode_cf_datetime([x], units, calendar=calendar, use_cftime=None)[0]\n",
    "    return pd.Timestamp(np_ts).strftime('%d.%b %Hh')\n",
    "\n",
    "\n",
    "fig, ax = plt.subplots(1,1, figsize=(14,8))\n",
    "ax.set_ylim(vmin, vmax)\n",
    "ax.xaxis.set_major_formatter(format_date)\n",
    "dset[parameter].plot(ax=ax, color='black', lw=0.2)\n",
    "\n",
    "fig.autofmt_xdate()\n",
    "plt.title(f\"{station_table}: {param} | {from_ts} - {to_ts}\", fontsize=18)\n",
    "\n",
    "plt.savefig(os.path.join( 'images', outfilename) )\n"
   ]
  },
  {
   "cell_type": "code",
   "execution_count": 12,
   "metadata": {},
   "outputs": [
    {
     "name": "stdout",
     "output_type": "stream",
     "text": [
      "finished plotting today_and_yesterday.png at 2021-11-22T14:59:19.734657\n"
     ]
    }
   ],
   "source": [
    "print(f\"finished plotting {outfilename} at {datetime.now().isoformat()}\")"
   ]
  },
  {
   "cell_type": "code",
   "execution_count": null,
   "metadata": {},
   "outputs": [],
   "source": []
  }
 ],
 "metadata": {
  "celltoolbar": "Tags",
  "kernelspec": {
   "display_name": "geopy2021a",
   "language": "python",
   "name": "geopy2021a"
  },
  "language_info": {
   "codemirror_mode": {
    "name": "ipython",
    "version": 3
   },
   "file_extension": ".py",
   "mimetype": "text/x-python",
   "name": "python",
   "nbconvert_exporter": "python",
   "pygments_lexer": "ipython3",
   "version": "3.8.12"
  }
 },
 "nbformat": 4,
 "nbformat_minor": 4
}
