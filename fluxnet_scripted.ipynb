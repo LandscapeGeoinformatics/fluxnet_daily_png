{
 "cells": [
  {
   "cell_type": "code",
   "execution_count": null,
   "metadata": {},
   "outputs": [],
   "source": [
    "import pyodbc\n",
    "import get_conf\n",
    "from datetime import timedelta, date, datetime\n",
    "import pandas as pd\n",
    "import os\n",
    "import xarray as xr\n",
    "import dask\n",
    "import matplotlib.pyplot as plt\n",
    "\n",
    "conn = pyodbc.connect(get_conf.conn_string() )"
   ]
  },
  {
   "cell_type": "markdown",
   "metadata": {},
   "source": [
    "## Kaido HF tables\n",
    "\n",
    "- Agali_II_FluxHFdata\n",
    "- Palo_ClearCut_PaloclearHFdata\n",
    "- Palo_Forest_TensoHFdata\n",
    "- Soontaga_HFdata\n",
    "\n",
    "### Soontaga Forest station - Soontaga_HFdata\n",
    "\n",
    "We need to plot the following columns:\n",
    "\n",
    "      ,[w_Avg] – vertical wind (Z), m/s\n",
    "      ,[T_Avg] – sonic temperature, 0C\n",
    "      ,[CO2_dry_Avg] - CO2, ppm\n",
    "      ,[H2O_dry_Avg] – H2O, mmol/mol"
   ]
  },
  {
   "cell_type": "code",
   "execution_count": null,
   "metadata": {
    "tags": [
     "parameters"
    ]
   },
   "outputs": [],
   "source": [
    "days_back = 3\n",
    "include_now = 0\n",
    "parameter = \"CO2_dry_Avg\"\n",
    "station_table = \"Palo_ClearCut_PaloclearHFdata\"\n",
    "filename_def = 'three_days_back'\n"
   ]
  },
  {
   "cell_type": "code",
   "execution_count": null,
   "metadata": {},
   "outputs": [],
   "source": [
    "d3 = timedelta(days=days_back)\n",
    "\n",
    "normal_shift = 1 if include_now < 1 else 0\n",
    "\n",
    "dt_today = date.today() - timedelta(days=normal_shift)\n",
    "\n",
    "a = dt_today.strftime('%Y-%m-%d 23:59:59') if include_now <= 0 else datetime.now().strftime('%Y-%m-%d %H:%M:%S')\n",
    "\n",
    "b = (dt_today - d3).strftime('%Y-%m-%d 00:00:00')\n",
    "\n",
    "a_str = a.replace(' ','_').replace(':','.')\n",
    "b_str = b.replace(' ','_').replace(':','.')\n",
    "\n",
    "filename_pref = f\"{parameter}_{station_table}_{b_str}_{a_str}\" if len(filename_def) <= 0 else f\"{filename_def}\"\n",
    "\n",
    "outfilename = f\"{filename_pref}.png\"\n",
    "\n",
    "print(a)\n",
    "print(b)\n",
    "print(outfilename)"
   ]
  },
  {
   "cell_type": "code",
   "execution_count": null,
   "metadata": {},
   "outputs": [],
   "source": [
    "param = parameter\n",
    "table = station_table\n",
    "from_ts = b\n",
    "to_ts = a\n",
    "\n",
    "sql_query = f\"SELECT {param}, TmStamp FROM {table} WHERE TmStamp >= '{from_ts}' AND TmStamp <= '{to_ts}'\"\n",
    "\n",
    "print(sql_query)\n",
    "\n",
    "df = pd.read_sql_query(sql_query, conn, coerce_float=True, parse_dates=['TmStamp'], chunksize=None, index_col='TmStamp')\n"
   ]
  },
  {
   "cell_type": "code",
   "execution_count": null,
   "metadata": {},
   "outputs": [],
   "source": [
    "qr = df.quantile([0.01, 0.99])\n",
    "qr_min = qr.iloc[0,0]\n",
    "qr_max = qr.iloc[1,0]\n",
    "\n",
    "iqrx = (qr_max - qr_min)\n",
    "\n",
    "vmin = qr_min-iqrx*1.5\n",
    "vmax = qr_max+iqrx*1.5\n",
    "\n",
    "print(f\"vmin {vmin} vmax {vmax}\")"
   ]
  },
  {
   "cell_type": "code",
   "execution_count": null,
   "metadata": {},
   "outputs": [],
   "source": [
    "dset = xr.Dataset.from_dataframe(df)\n",
    "\n",
    "fig, ax = plt.subplots(1,1, figsize=(14,8))\n",
    "ax.set_ylim(vmin, vmax)\n",
    "dset[parameter].plot(ax=ax, color='black', lw=0.2)\n",
    "\n",
    "\n",
    "plt.title(f\"{station_table}: {param} | {from_ts} - {to_ts}\")\n",
    "\n",
    "plt.savefig(os.path.join( 'images', outfilename) )"
   ]
  },
  {
   "cell_type": "code",
   "execution_count": null,
   "metadata": {},
   "outputs": [],
   "source": [
    "print(f\"finished plotting {outfilename} at {datetime.now().isoformat()}\")"
   ]
  }
 ],
 "metadata": {
  "celltoolbar": "Tags",
  "kernelspec": {
   "display_name": "geopy2020",
   "language": "python",
   "name": "geopy2020"
  },
  "language_info": {
   "codemirror_mode": {
    "name": "ipython",
    "version": 3
   },
   "file_extension": ".py",
   "mimetype": "text/x-python",
   "name": "python",
   "nbconvert_exporter": "python",
   "pygments_lexer": "ipython3",
   "version": "3.7.8"
  }
 },
 "nbformat": 4,
 "nbformat_minor": 4
}
